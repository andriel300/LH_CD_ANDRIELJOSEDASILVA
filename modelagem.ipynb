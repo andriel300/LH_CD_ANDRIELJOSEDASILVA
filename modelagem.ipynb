{
 "cells": [
  {
   "cell_type": "code",
   "execution_count": 8,
   "metadata": {},
   "outputs": [],
   "source": [
    "# Limpeza e processamento dos Dados\n",
    "import pandas as pd\n",
    "\n",
    "# Carregar e fazer leitura dos dados dentro do projeto\n",
    "caminho_do_arquivo = \"../desafio-ds-imdb-diel/desafio_indicium_imdb.csv\"\n",
    "data = pd.read_csv(caminho_do_arquivo)\n"
   ]
  },
  {
   "cell_type": "code",
   "execution_count": null,
   "metadata": {},
   "outputs": [],
   "source": []
  }
 ],
 "metadata": {
  "kernelspec": {
   "display_name": "Python 3",
   "language": "python",
   "name": "python3"
  },
  "language_info": {
   "codemirror_mode": {
    "name": "ipython",
    "version": 3
   },
   "file_extension": ".py",
   "mimetype": "text/x-python",
   "name": "python",
   "nbconvert_exporter": "python",
   "pygments_lexer": "ipython3",
   "version": "3.12.3"
  }
 },
 "nbformat": 4,
 "nbformat_minor": 2
}
