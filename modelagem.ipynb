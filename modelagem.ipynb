{
 "cells": [
  {
   "cell_type": "markdown",
   "metadata": {},
   "source": [
    "# 1.Importação de Bibliotecas"
   ]
  },
  {
   "cell_type": "code",
   "execution_count": 3,
   "metadata": {},
   "outputs": [
    {
     "ename": "ModuleNotFoundError",
     "evalue": "No module named 'seaborn'",
     "output_type": "error",
     "traceback": [
      "\u001b[0;31m---------------------------------------------------------------------------\u001b[0m",
      "\u001b[0;31mModuleNotFoundError\u001b[0m                       Traceback (most recent call last)",
      "Cell \u001b[0;32mIn[3], line 3\u001b[0m\n\u001b[1;32m      1\u001b[0m \u001b[38;5;28;01mimport\u001b[39;00m \u001b[38;5;21;01mpandas\u001b[39;00m \u001b[38;5;28;01mas\u001b[39;00m \u001b[38;5;21;01mpd\u001b[39;00m\n\u001b[1;32m      2\u001b[0m \u001b[38;5;28;01mimport\u001b[39;00m \u001b[38;5;21;01mmatplotlib\u001b[39;00m\u001b[38;5;21;01m.\u001b[39;00m\u001b[38;5;21;01mpyplot\u001b[39;00m \u001b[38;5;28;01mas\u001b[39;00m \u001b[38;5;21;01mplt\u001b[39;00m\n\u001b[0;32m----> 3\u001b[0m \u001b[38;5;28;01mimport\u001b[39;00m \u001b[38;5;21;01mseaborn\u001b[39;00m \u001b[38;5;28;01mas\u001b[39;00m \u001b[38;5;21;01msns\u001b[39;00m\n\u001b[1;32m      4\u001b[0m \u001b[38;5;66;03m# Preparação para Modelagem Preditiva\u001b[39;00m\n\u001b[1;32m      5\u001b[0m \u001b[38;5;28;01mfrom\u001b[39;00m \u001b[38;5;21;01msklearn\u001b[39;00m\u001b[38;5;21;01m.\u001b[39;00m\u001b[38;5;21;01mmodel_selection\u001b[39;00m \u001b[38;5;28;01mimport\u001b[39;00m train_test_split\n",
      "\u001b[0;31mModuleNotFoundError\u001b[0m: No module named 'seaborn'"
     ]
    }
   ],
   "source": [
    "import pandas as pd\n",
    "import matplotlib.pyplot as plt\n",
    "import seaborn as sns\n",
    "# Preparação para Modelagem Preditiva\n",
    "from sklearn.model_selection import train_test_split\n",
    "from sklearn.preprocessing import StandardScaler\n",
    "from sklearn.impute import SimpleImputer\n",
    "from sklearn.linear_model import LinearRegression\n",
    "from sklearn.metrics import mean_squared_error, r2_score\n",
    "\n",
    "# Carregar e fazer leitura dos dados dentro do projeto\n",
    "caminho_do_arquivo = \"../desafio-ds-imdb-diel/desafio_indicium_imdb.csv\"\n",
    "data = pd.read_csv(caminho_do_arquivo)"
   ]
  },
  {
   "cell_type": "markdown",
   "metadata": {},
   "source": [
    "# 2.Entendimento de problema"
   ]
  },
  {
   "cell_type": "code",
   "execution_count": null,
   "metadata": {},
   "outputs": [],
   "source": [
    "# Verificar as linhas do data frame para inspeção\n",
    "print('Visão dos dados:')\n",
    "data = pd.DataFrame(data)\n",
    "data.sample(7)"
   ]
  },
  {
   "cell_type": "code",
   "execution_count": null,
   "metadata": {},
   "outputs": [],
   "source": [
    "print('As colunas são :\\n')\n",
    "print(data.columns)"
   ]
  },
  {
   "cell_type": "code",
   "execution_count": null,
   "metadata": {},
   "outputs": [],
   "source": [
    "# Descrever os dados para analise e inspeção para limpeza\n",
    "data.describe(include='all')"
   ]
  },
  {
   "cell_type": "markdown",
   "metadata": {},
   "source": [
    "## 3.Análise Exploratória dos Dados (EDA)\n",
    "### Limpeza e processamento dos Dados\n",
    "* **Objetivo**: Demonstrar as principais características entre as variáveis e apresentar hipóteses relacionadas.\n",
    "* **Ações**: Você deve incluir visualizações como gráficos de dispersão, histogramas, e boxplots para entender a distribuição dos dados e relações entre variáveis.\n",
    "* **Ferramentas**: Utilize bibliotecas como `pandas`, `matplotlib`, e `seaborn` para esta parte."
   ]
  },
  {
   "cell_type": "code",
   "execution_count": null,
   "metadata": {},
   "outputs": [],
   "source": [
    "# Remover a coluna 'Unnamed : 0' que não é necessária para análise\n",
    "data = data.drop(columns=[\"Unnamed: 0\"])\n",
    "\n",
    "# Converter 'Released_Year' para numérico, substituindo valores inválidos por NaN\n",
    "data[\"Released_Year\"] = pd.to_numeric(data[\"Released_Year\"], errors=\"coerce\")\n",
    "\n",
    "# Remover caracteres não numéricos e virgulas da coluna 'Gross' e converter para numérico\n",
    "data[\"Gross\"] = data[\"Gross\"].str.replace(\",\", \"\").astype(float)\n",
    "\n",
    "# Substituir valores ausentes em 'Certificate' por 'Unknown'\n",
    "data[\"Certificate\"] = data[\"Certificate\"].fillna(\"Unknown\")\n",
    "\n",
    "# Substituir valores ausentes em 'Meta_score' pela média dos valores disponíveis\n",
    "meta_score_mean = data[\"Meta_score\"].mean()\n",
    "data[\"Meta_score\"] = data[\"Meta_score\"].fillna(meta_score_mean)\n",
    "\n",
    "# Substituir valores ausentes em 'Gross' pela média dos valores disponíveis\n",
    "gross_mean = data[\"Gross\"].mean()\n",
    "data[\"Gross\"] = data[\"Gross\"].fillna(gross_mean)\n",
    "\n",
    "# Converter a coluna 'Runtime' para minutos numéricos\n",
    "data[\"Runtime\"] = data[\"Runtime\"].str.replace(\" min\", \"\").astype(int)\n"
   ]
  },
  {
   "cell_type": "code",
   "execution_count": null,
   "metadata": {},
   "outputs": [],
   "source": [
    "# Nemhum dados duplicados\n",
    "data.duplicated().sum()"
   ]
  },
  {
   "cell_type": "code",
   "execution_count": null,
   "metadata": {},
   "outputs": [],
   "source": [
    "# Verificar as limpezas\n",
    "data.info()\n",
    "data.head()"
   ]
  },
  {
   "cell_type": "markdown",
   "metadata": {},
   "source": [
    "### Número de filmes por gêneros."
   ]
  },
  {
   "cell_type": "code",
   "execution_count": null,
   "metadata": {},
   "outputs": [],
   "source": [
    "# Configurar o estilo dos gráficos\n",
    "sns.set_theme(style=\"whitegrid\")\n",
    "\n",
    "# Distribuição dos Gêneros\n",
    "generos = data[\"Genre\"].str.get_dummies(sep=\", \")\n",
    "contagem_generos = generos.sum().sort_values(ascending=False)\n",
    "\n",
    "# Plotar a distribuição dos gêneros\n",
    "plt.figure(figsize=(12, 8))\n",
    "sns.barplot(\n",
    "    x=contagem_generos.values,\n",
    "    y=contagem_generos.index,\n",
    "    hue=contagem_generos.index,\n",
    "    palette=\"viridis\",\n",
    "    legend=False,\n",
    ")\n",
    "# Títutlo\n",
    "plt.title(\"Distribuição dos Gêneros de Filmes\")\n",
    "plt.xlabel(\"Número de Filmes\")\n",
    "plt.ylabel(\"Gênero\")\n",
    "plt.show()"
   ]
  },
  {
   "cell_type": "code",
   "execution_count": null,
   "metadata": {},
   "outputs": [],
   "source": [
    "print(f\"{color.BOLD}Certificados mais Repetitidos\")\n",
    "print(\"*\" * 30)\n",
    "data[\"Certificate\"].value_counts().to_frame().style.highlight_max(color=\"red\")"
   ]
  },
  {
   "cell_type": "markdown",
   "metadata": {},
   "source": [
    "* **Ação**: Analisar os filmes com as melhores notas no IMDB e maiores números de votos.\n",
    "* **Ferramentas**: `pandas`para filtrar e ordenar os dados."
   ]
  },
  {
   "cell_type": "code",
   "execution_count": null,
   "metadata": {},
   "outputs": [],
   "source": [
    "# melhores filmes avaliados por votos à cada ano\n",
    "data = data.sort_values(by=\"Released_Year\", ascending=False)\n",
    "melhores_filmes_avaliados = pd.DataFrame(columns=data.columns)\n",
    "\n",
    "for year in data[\"Released_Year\"].unique():\n",
    "    if year not in [2025, 2024, 2023]:\n",
    "        df_year = data[data[\"Released_Year\"] == year]\n",
    "        if not df_year.empty:\n",
    "            df_year_sorted = df_year.sort_values(by=\"No_of_Votes\", ascending=False)\n",
    "            melhores_filmes_avaliado = df_year_sorted.iloc[0]\n",
    "            melhores_filmes_avaliados = pd.concat(\n",
    "                [melhores_filmes_avaliados, melhores_filmes_avaliado.to_frame().T],\n",
    "                ignore_index=True,\n",
    "            )"
   ]
  },
  {
   "cell_type": "code",
   "execution_count": null,
   "metadata": {},
   "outputs": [],
   "source": [
    "# Mostrar os 10 melhores filmes avaliados por votos à cada ano\n",
    "melhores_filmes_avaliados.head(10)"
   ]
  },
  {
   "cell_type": "code",
   "execution_count": null,
   "metadata": {},
   "outputs": [],
   "source": [
    "# Análise Temporal de Bilheteria ao longo dos anos\n",
    "from matplotlib.ticker import FuncFormatter\n",
    "\n",
    "# Função para formatar os valores como dólares\n",
    "def formatar_dolar(x, pos):\n",
    "    return '${:.1f}M'.format(x*1e-6)\n",
    "\n",
    "plt.figure(figsize=(12, 8))\n",
    "sns.lineplot(data=data, x=\"Released_Year\", y=\"Gross\", marker=\"o\")\n",
    "plt.title(\"Evolução Aos longos dos anos de acordo com a Receita Bruta\")\n",
    "plt.xlabel(\"Ano de Lançamento\")\n",
    "plt.ylabel(\"Receita Bruta (em dólares)\")\n",
    "\n",
    "# Formatar o eixo y como dólares\n",
    "formatter = FuncFormatter(formatar_dolar)\n",
    "plt.gca().yaxis.set_major_formatter(formatter)\n",
    "plt.show()"
   ]
  },
  {
   "cell_type": "code",
   "execution_count": null,
   "metadata": {},
   "outputs": [],
   "source": [
    "# Obtenha os diretores com os maiores números de lançamentos\n",
    "contagem_diretor = data[\"Director\"].value_counts().sort_values(ascending=False)\n",
    "contagem_diretor_df = contagem_diretor.to_frame().reset_index()\n",
    "contagem_diretor_df.columns = [\"Director\", \"count\"]\n",
    "\n",
    "# Plotar os dados\n",
    "plt.figure(figsize=(12, 8))\n",
    "sns.barplot(\n",
    "    x=\"count\",\n",
    "    y=\"Director\",\n",
    "    hue=\"Director\",\n",
    "    data=contagem_diretor_df.head(10),\n",
    "    palette=\"magma\",\n",
    ")\n",
    "plt.title(\"Top 10 Directors com maiores lançamentos\")\n",
    "plt.xlabel(\"Número de filmes\")\n",
    "plt.ylabel(\"Diretores\")\n",
    "plt.show()"
   ]
  },
  {
   "cell_type": "code",
   "execution_count": null,
   "metadata": {},
   "outputs": [],
   "source": [
    "# Análise de Diretores e Atores\n",
    "# Top 10 Diretores por Avaliação IMDb\n",
    "top_diretores = (\n",
    "    data.groupby(\"Director\")[\"IMDB_Rating\"].mean().sort_values(ascending=False).head(10)\n",
    ")\n",
    "\n",
    "# Plotar os top 10 diretores\n",
    "plt.figure(figsize=(12, 8))\n",
    "sns.barplot(\n",
    "    x=top_diretores.values,\n",
    "    y=top_diretores.index,\n",
    "    hue=top_diretores.index,\n",
    "    palette=\"viridis\",\n",
    ")\n",
    "plt.title(\"Top 10 Diretores por Avaliação IMDb\")\n",
    "plt.xlabel(\"Avaliação Média no IMDb\")\n",
    "plt.ylabel(\"Diretor\")\n",
    "plt.show()"
   ]
  },
  {
   "cell_type": "markdown",
   "metadata": {},
   "source": [
    "# 4. Modelagem Preditiva\n",
    "* Modelo Utilizado: `Regressão Linear` para prever a nota do IMDB.\n",
    "* Tipo de Problema: Regressão.\n",
    "* Avaliação do Modelo: `Mean Squared Error (MSE)` e `R-squared (R²)`."
   ]
  },
  {
   "cell_type": "code",
   "execution_count": null,
   "metadata": {},
   "outputs": [],
   "source": [
    "\n",
    "# Preencher valores ausentes com a moda em colunas categóricas\n",
    "categorical_cols = [\n",
    "    \"Certificate\",\n",
    "    \"Genre\",\n",
    "    \"Director\",\n",
    "    \"Star1\",\n",
    "    \"Star2\",\n",
    "    \"Star3\",\n",
    "    \"Star4\",\n",
    "]\n",
    "for col in categorical_cols:\n",
    "    if col in data.columns:\n",
    "        data[col] = data[col].fillna(data[col].mode()[0])\n",
    "\n",
    "# Codificação one-hot para colunas categóricas\n",
    "data = pd.get_dummies(data, columns=categorical_cols)\n",
    "\n",
    "# Seleção\n",
    "X = data.drop(columns=[\"IMDB_Rating\", \"Series_Title\", \"Overview\"])\n",
    "y = data[\"IMDB_Rating\"]\n",
    "\n",
    "# Divisão dos dados em conjuntos de treino e teste\n",
    "X_train, X_test, y_train, y_test = train_test_split(\n",
    "    X, y, test_size=0.2, random_state=42\n",
    ")\n",
    "\n",
    "# Imputar valores ausentes nas colunas numéricas\n",
    "imputer = SimpleImputer(strategy=\"mean\")\n",
    "X_train = pd.DataFrame(imputer.fit_transform(X_train), columns=X_train.columns)\n",
    "X_test = pd.DataFrame(imputer.transform(X_test), columns=X_test.columns)\n",
    "\n",
    "# Normalização dos dados\n",
    "scaler = StandardScaler()\n",
    "X_train = scaler.fit_transform(X_train)\n",
    "X_teste = scaler.transform(X_test)\n",
    "\n",
    "# Treinamento do modelo de Regressão Linear\n",
    "model = LinearRegression()\n",
    "model.fit(X_train, y_train)\n",
    "\n",
    "# Previsões no conjunto de teste\n",
    "y_pred = model.predict(X_test)\n",
    "\n",
    "# Avaliação do modelo\n",
    "mse = mean_squared_error(y_test, y_pred)\n",
    "r2 = r2_score(y_test, y_pred)\n",
    "print(f\"MSE: {mse}, R2: {r2}\")"
   ]
  },
  {
   "cell_type": "markdown",
   "metadata": {},
   "source": [
    "# 5.Previsão da Nota do IMDb para um Filme Específico\n",
    "* **Ação**: Utilizar o modelo treinado para prever a nota do IMDB de um filme com as características fornecidas.\n",
    "* **Ferramentas**: `pandas` para preparar os dados de entrada, `sklearn` para aplicar o modelo treinado."
   ]
  },
  {
   "cell_type": "code",
   "execution_count": null,
   "metadata": {},
   "outputs": [],
   "source": [
    "# Características do filme\n",
    "filme = {\n",
    "    \"Series_Title\": \"The Shawshank Redemption\",\n",
    "    \"Released_Year\": 1994,\n",
    "    \"Certificate\": \"A\",\n",
    "    \"Runtime\": 142,\n",
    "    \"Genre\": \"Drama\",\n",
    "    \"Meta_score\": 80.0,\n",
    "    \"Director\": \"Frank Darabont\",\n",
    "    \"Star1\": \"Tim Robbins\",\n",
    "    \"Star2\": \"Morgan Freeman\",\n",
    "    \"Star3\": \"Bob Gunton\",\n",
    "    \"Star4\": \"William Sadler\",\n",
    "    \"No_of_Votes\": 2343110,\n",
    "    \"Gross\": 28341469,\n",
    "}\n",
    "\n",
    "# Transformar os dados em um DataFrame\n",
    "filme_df = pd.DataFrame([filme])\n",
    "\n",
    "# Aplicar a mesma codificação one-hot\n",
    "filme_df = pd.get_dummies(\n",
    "    filme_df,\n",
    "    columns=[\"Certificate\", \"Genre\", \"Director\", \"Star1\", \"Star2\", \"Star3\", \"Star4\"],\n",
    ")\n",
    "\n",
    "# Alinhar o DataFrame do filme com as colunas do conjunto de treino\n",
    "filme_df = filme_df.reindex(columns=X.columns, fill_value=0)\n",
    "\n",
    "# Normalizar os dados do filme\n",
    "X_film = scaler.transform(filme_df)\n",
    "\n",
    "# Prever a nota do IMDb\n",
    "nota_imdb = model.predict(X_film)\n",
    "print(f\"Nota do IMDb prevista: {nota_imdb[0]}\")"
   ]
  },
  {
   "cell_type": "code",
   "execution_count": null,
   "metadata": {},
   "outputs": [],
   "source": [
    "import joblib\n",
    "# Salvar o modelo em formato .pkl\n",
    "joblib.dump(model, 'modelo_imdb.pkl')"
   ]
  },
  {
   "cell_type": "code",
   "execution_count": null,
   "metadata": {},
   "outputs": [],
   "source": []
  }
 ],
 "metadata": {
  "kernelspec": {
   "display_name": "learning-datascience",
   "language": "python",
   "name": "learning-datascience"
  },
  "language_info": {
   "codemirror_mode": {
    "name": "ipython",
    "version": 3
   },
   "file_extension": ".py",
   "mimetype": "text/x-python",
   "name": "python",
   "nbconvert_exporter": "python",
   "pygments_lexer": "ipython3",
   "version": "3.12.3"
  }
 },
 "nbformat": 4,
 "nbformat_minor": 4
}
